{
 "cells": [
  {
   "cell_type": "code",
   "execution_count": 5,
   "metadata": {},
   "outputs": [],
   "source": [
    "import copy # fork a chain\n",
    "import datetime # get real time for timestamps\n",
    "import hashlib # hash\n",
    "\n",
    "class MinimalBlock():\n",
    "    def __init__(self, index, timestamp, data, previous_hash):\n",
    "        self.index = index\n",
    "        self.timestamp = timestamp\n",
    "        self.data = data\n",
    "        self.previous_hash = previous_hash\n",
    "        self.hash = self.hashing()\n",
    "\n",
    "    def hashing(self):\n",
    "        key = hashlib.sha256()\n",
    "        key.update(str(self.index).encode('utf-8'))\n",
    "        key.update(str(self.timestamp).encode('utf-8'))\n",
    "        key.update(str(self.data).encode('utf-8'))\n",
    "        key.update(str(self.previous_hash).encode('utf-8'))\n",
    "        return key.hexdigest()"
   ]
  },
  {
   "cell_type": "code",
   "execution_count": 7,
   "metadata": {},
   "outputs": [],
   "source": [
    "b = MinimalBlock(0,datetime.datetime.utcnow(),'block','Nan')"
   ]
  },
  {
   "cell_type": "code",
   "execution_count": 13,
   "metadata": {},
   "outputs": [
    {
     "name": "stdout",
     "output_type": "stream",
     "text": [
      "2021-07-25 01:43:56.860153\n",
      "block\n",
      "312c115edebe334138c9f21cd652c2fb021ff3200d5d06c5cc729bb2474237cc\n"
     ]
    }
   ],
   "source": [
    "print(b.timestamp)\n",
    "print(b.data)\n",
    "print(b.hash)"
   ]
  },
  {
   "cell_type": "code",
   "execution_count": 17,
   "metadata": {},
   "outputs": [
    {
     "data": {
      "text/plain": [
       "'e3b0c44298fc1c149afbf4c8996fb92427ae41e4649b934ca495991b7852b855'"
      ]
     },
     "execution_count": 17,
     "metadata": {},
     "output_type": "execute_result"
    }
   ],
   "source": [
    "hashlib.sha256().hexdigest()"
   ]
  },
  {
   "cell_type": "code",
   "execution_count": 32,
   "metadata": {},
   "outputs": [],
   "source": [
    "class ItemBlock:\n",
    "    \n",
    "    def __init__(self, previous_block_hash, transaction_list):\n",
    "        self.previous_block_hash = previous_block_hash\n",
    "        self.transaction_list = transaction_list\n",
    "        self.block_hash = hashlib.sha256(self.block_data.encode()).hexdigest()\n",
    "        \n",
    "    @property\n",
    "    def block_data(self):\n",
    "        return \"-\".join(self.transaction_list) + \"-\" + self.previous_block_hash\n",
    "        \n",
    "    @property\n",
    "    def last_block(self):\n",
    "        return self.transaction_list[-1]\n",
    "    \n",
    "class AccessoryBlock(ItemBlock):\n",
    "    \n",
    "    def __init__(self, previous_block_hash, transaction_list, name):\n",
    "        super().__init__(previous_block_hash, transaction_list)\n",
    "        self.name = name"
   ]
  },
  {
   "cell_type": "code",
   "execution_count": 33,
   "metadata": {},
   "outputs": [],
   "source": [
    "# we have 3 shipments inbound\n",
    "# TODO: model transaction of item in storage\n",
    "# TODO: model outbound transaction\n",
    "\n",
    "s1 = '{\"date\":\"10/10/2015\",\"items\":\\\n",
    "[{\"item\":\"shackles\",\"qty\":10},{\"item\":\"bolts\",\"qty\":100}]}'\n",
    "s2 = '{\"date\":\"10/11/2015\",\"items\":\\\n",
    "[{\"item\":\"angle-iron\",\"qty\":3}]}'\n",
    "s3 = '{\"date\":\"10/10/2015\",\"items\":\\\n",
    "[{\"item\":\"guy-wire\",\"qty\":1000},{\"item\":\"shackles\",\"qty\":50}]}'\n",
    "\n",
    "intial_block = ItemBlock(\"Initial String\", [s1,s2,s3])\n",
    "accessory_block = AccessoryBlock(\"Accessory Initial String\", [s1,s2,s3], 'blah')"
   ]
  },
  {
   "cell_type": "code",
   "execution_count": 28,
   "metadata": {},
   "outputs": [
    {
     "name": "stdout",
     "output_type": "stream",
     "text": [
      "{\"date\":\"10/10/2015\",\"items\":[{\"item\":\"shackles\",\"qty\":10},{\"item\":\"bolts\",\"qty\":100}]}-{\"date\":\"10/11/2015\",\"items\":[{\"item\":\"angle-iron\",\"qty\":3}]}-{\"date\":\"10/10/2015\",\"items\":[{\"item\":\"guy-wire\",\"qty\":1000},{\"item\":\"shackles\",\"qty\":50}]}-Initial String\n",
      "2dd17f4197f07b370c68d4b5e1c30bb8686eb651c4032836673f45b175a95b49\n"
     ]
    }
   ],
   "source": [
    "print(intial_block.block_data)\n",
    "print(intial_block.block_hash)"
   ]
  },
  {
   "cell_type": "code",
   "execution_count": 34,
   "metadata": {},
   "outputs": [
    {
     "name": "stdout",
     "output_type": "stream",
     "text": [
      "{\"date\":\"10/10/2015\",\"items\":[{\"item\":\"shackles\",\"qty\":10},{\"item\":\"bolts\",\"qty\":100}]}-{\"date\":\"10/11/2015\",\"items\":[{\"item\":\"angle-iron\",\"qty\":3}]}-{\"date\":\"10/10/2015\",\"items\":[{\"item\":\"guy-wire\",\"qty\":1000},{\"item\":\"shackles\",\"qty\":50}]}-Accessory Initial String\n",
      "4d4422c2014d87bdb9fa4d50dec9b5258c5ece956414bf8074231f57cc2791aa\n",
      "blah\n"
     ]
    }
   ],
   "source": [
    "print(accessory_block.block_data)\n",
    "print(accessory_block.block_hash)\n",
    "print(accessory_block.name)"
   ]
  },
  {
   "cell_type": "code",
   "execution_count": 17,
   "metadata": {},
   "outputs": [
    {
     "data": {
      "text/plain": [
       "'Initial String'"
      ]
     },
     "execution_count": 17,
     "metadata": {},
     "output_type": "execute_result"
    }
   ],
   "source": [
    "intial_block.previous_block_hash"
   ]
  },
  {
   "cell_type": "code",
   "execution_count": 18,
   "metadata": {},
   "outputs": [
    {
     "data": {
      "text/plain": [
       "['{\"date\":\"10/10/2015\",\"items\":[{\"item\":\"shackles\",\"qty\":10},{\"item\":\"bolts\",\"qty\":100}]}',\n",
       " '{\"date\":\"10/11/2015\",\"items\":[{\"item\":\"angle-iron\",\"qty\":3}]}',\n",
       " '{\"date\":\"10/10/2015\",\"items\":[{\"item\":\"guy-wire\",\"qty\":1000},{\"item\":\"shackles\",\"qty\":50}]}']"
      ]
     },
     "execution_count": 18,
     "metadata": {},
     "output_type": "execute_result"
    }
   ],
   "source": [
    "intial_block.transaction_list"
   ]
  },
  {
   "cell_type": "code",
   "execution_count": 19,
   "metadata": {},
   "outputs": [
    {
     "data": {
      "text/plain": [
       "'{\"date\":\"10/10/2015\",\"items\":[{\"item\":\"guy-wire\",\"qty\":1000},{\"item\":\"shackles\",\"qty\":50}]}'"
      ]
     },
     "execution_count": 19,
     "metadata": {},
     "output_type": "execute_result"
    }
   ],
   "source": [
    "intial_block.last_block"
   ]
  },
  {
   "cell_type": "code",
   "execution_count": 20,
   "metadata": {},
   "outputs": [
    {
     "data": {
      "text/plain": [
       "'{\"date\":\"10/10/2015\",\"items\":[{\"item\":\"guy-wire\",\"qty\":1000},{\"item\":\"shackles\",\"qty\":50}]}'"
      ]
     },
     "execution_count": 20,
     "metadata": {},
     "output_type": "execute_result"
    }
   ],
   "source": [
    "intial_block.transaction_list[2]"
   ]
  },
  {
   "cell_type": "code",
   "execution_count": 24,
   "metadata": {},
   "outputs": [
    {
     "data": {
      "text/plain": [
       "'{\"date\":\"10/10/2015\",\"items\":[{\"item\":\"shackles\",\"qty\":10},{\"item\":\"bolts\",\"qty\":100}]}-{\"date\":\"10/11/2015\",\"items\":[{\"item\":\"angle-iron\",\"qty\":3}]}-{\"date\":\"10/10/2015\",\"items\":[{\"item\":\"guy-wire\",\"qty\":1000},{\"item\":\"shackles\",\"qty\":50}]}-Initial String'"
      ]
     },
     "execution_count": 24,
     "metadata": {},
     "output_type": "execute_result"
    }
   ],
   "source": [
    "intial_block.block_data"
   ]
  },
  {
   "cell_type": "code",
   "execution_count": null,
   "metadata": {},
   "outputs": [],
   "source": []
  }
 ],
 "metadata": {
  "kernelspec": {
   "display_name": "Python 3",
   "language": "python",
   "name": "python3"
  },
  "language_info": {
   "codemirror_mode": {
    "name": "ipython",
    "version": 3
   },
   "file_extension": ".py",
   "mimetype": "text/x-python",
   "name": "python",
   "nbconvert_exporter": "python",
   "pygments_lexer": "ipython3",
   "version": "3.8.5"
  }
 },
 "nbformat": 4,
 "nbformat_minor": 4
}
